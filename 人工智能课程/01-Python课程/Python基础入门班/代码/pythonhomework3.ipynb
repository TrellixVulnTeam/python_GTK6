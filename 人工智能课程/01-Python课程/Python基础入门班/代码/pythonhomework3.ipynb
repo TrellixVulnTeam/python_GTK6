{
 "cells": [
  {
   "cell_type": "heading",
   "metadata": {
    "collapsed": true
   },
   "level": 1,
   "source": [
    "螺旋矩阵：给定一个m * n要素的矩阵。按照螺旋顺序，返回该矩阵的所有要素"
   ]
  },
  {
   "cell_type": "code",
   "execution_count": 13,
   "metadata": {},
   "outputs": [
    {
     "name": "stdout",
     "output_type": "stream",
     "text": [
      "[1, 2, 3, 4, 8, 12, 11, 10, 9, 5, 6, 7]\n"
     ]
    }
   ],
   "source": [
    "# function output the first row -> end column -> end row -> first column\n",
    "# output a row or a column and delete it\n",
    "import numpy as np\n",
    "output = []\n",
    "def func_output(array, k):\n",
    "    if k == 0:\n",
    "        output.extend(list(array[0,:]))\n",
    "        array = np.delete(array, 0, 0)\n",
    "    elif k == 1:\n",
    "        output.extend(list(array[:,-1]))\n",
    "        array = np.delete(array, -1, 1)\n",
    "    elif k == 2:\n",
    "        output.extend(reversed(list(array[-1,:])))\n",
    "        array = np.delete(array, -1, 0)\n",
    "    else:\n",
    "        output.extend(reversed(list(array[:,0])))\n",
    "        array = np.delete(array, 0, 1)\n",
    "    return array\n",
    "\n",
    "arr = np.array([[1,2,3,4], [5,6,7,8], [9,10,11,12]])\n",
    "k = 0\n",
    "while arr.size:\n",
    "    k = k % 4\n",
    "    arr = func_output(arr, k)\n",
    "    k = k+1\n",
    "else :\n",
    "    print output"
   ]
  },
  {
   "cell_type": "heading",
   "metadata": {},
   "level": 1,
   "source": [
    "用栈（使用list）实现队列：支持push(element)，pop()和top()方法。pop和top方法都应该返回第一个元素的值。比如执行以下操作序列：push(1)，pop()，push(2)，push(3)，top()，pop()，你应该返回1，2和2。"
   ]
  },
  {
   "cell_type": "code",
   "execution_count": 16,
   "metadata": {},
   "outputs": [
    {
     "name": "stdout",
     "output_type": "stream",
     "text": [
      "1\n2\n2\n"
     ]
    }
   ],
   "source": [
    "class queue:\n",
    "    def __init__(self):\n",
    "        self.list = []\n",
    "        \n",
    "    def push(self, element):\n",
    "        self.list.append(element)\n",
    "    \n",
    "    def pop(self):\n",
    "        print self.list[0]\n",
    "        del self.list[0]\n",
    "    \n",
    "    def top(self):\n",
    "        print self.list[0]\n",
    "        \n",
    "q = queue()\n",
    "q.push(1)\n",
    "q.pop()\n",
    "q.push(2)\n",
    "q.push(3)\n",
    "q.top()\n",
    "q.pop()"
   ]
  },
  {
   "cell_type": "heading",
   "metadata": {},
   "level": 1,
   "source": [
    "矩阵转换：给定矩阵A，令矩阵B里每个元素B[i][j]的值等于A[0][0]到A[i][j]子矩阵元素的和"
   ]
  },
  {
   "cell_type": "code",
   "execution_count": 33,
   "metadata": {},
   "outputs": [
    {
     "name": "stdout",
     "output_type": "stream",
     "text": [
      "[[ 1  3  6 10]\n [ 6 14 24 36]\n [15 33 54 78]]\n"
     ]
    }
   ],
   "source": [
    "import numpy as np\n",
    "# B = np.array([])\n",
    "def sum(A):\n",
    "    B = A.copy()\n",
    "    for i in range(0,int(A.shape[0])):\n",
    "        for j in range(0,int(A.shape[1])):\n",
    "            B[i][j] = np.sum(A[:i+1, :j+1])\n",
    "    print B\n",
    "arr = np.array([[1, 2, 3, 4], [5, 6, 7, 8], [9, 10, 11, 12]])\n",
    "sum(arr)"
   ]
  },
  {
   "cell_type": "heading",
   "metadata": {},
   "level": 1,
   "source": [
    "翻转单向链表"
   ]
  },
  {
   "cell_type": "code",
   "execution_count": 5,
   "metadata": {},
   "outputs": [
    {
     "name": "stdout",
     "output_type": "stream",
     "text": [
      "1->2->3->4->5\n"
     ]
    }
   ],
   "source": [
    "class ListNode(object):\n",
    "    def __init__(self, val, next = None):\n",
    "        self.val = val\n",
    "        self.next = next\n",
    "        \n",
    "def display_list(head):\n",
    "    vals = []\n",
    "    while head:\n",
    "        vals.append(str(head.val))\n",
    "        head = head.next\n",
    "    else:\n",
    "        print '->'.join(vals)\n",
    "        \n",
    "def reverse(head):\n",
    "    new_head = None\n",
    "    while head:\n",
    "        node = head\n",
    "        head = head.next\n",
    "        node.next = new_head\n",
    "        new_head = node\n",
    "    return new_head        \n",
    "l_5 = ListNode(5)\n",
    "l_4 = ListNode(4, l_5)\n",
    "l_3 = ListNode(3, l_4)\n",
    "l_2 = ListNode(2, l_3)\n",
    "l_1 = ListNode(1, l_2)\n",
    "display_list(l_1)"
   ]
  },
  {
   "cell_type": "heading",
   "metadata": {},
   "level": 1,
   "source": [
    "利用@property给一个Screen对象加上width和height属性，以及一个只读属性resolution"
   ]
  },
  {
   "cell_type": "code",
   "execution_count": 7,
   "metadata": {},
   "outputs": [
    {
     "name": "stdout",
     "output_type": "stream",
     "text": [
      "1500\n"
     ]
    },
    {
     "name": "stderr",
     "output_type": "stream",
     "text": [
      "Traceback (most recent call last):\n  File \"<ipython-input-7-87354f2b7f7f>\", line 34, in <module>\n    s.width = 'abc'\n  File \"<ipython-input-7-87354f2b7f7f>\", line 11, in width\n    raise ValueError('width can not be string!')\nValueError: width can not be string!\nTraceback (most recent call last):\n  File \"<ipython-input-7-87354f2b7f7f>\", line 38, in <module>\n    s.resolution = 1500\nAttributeError: can't set attribute\n"
     ]
    }
   ],
   "source": [
    "import traceback\n",
    "class Screen(object):\n",
    "    \n",
    "    @property\n",
    "    def width(self):\n",
    "        return self._width\n",
    "    \n",
    "    @width.setter\n",
    "    def width(self, width):\n",
    "        if isinstance(width, basestring):\n",
    "            raise ValueError('width can not be string!')\n",
    "        self._width = width\n",
    "        \n",
    "    @property\n",
    "    def height(self):\n",
    "        return self._height\n",
    "    \n",
    "    @width.setter\n",
    "    def height(self, height):\n",
    "        if isinstance(height, basestring):\n",
    "            raise ValueError('height can not be string!')\n",
    "        self._height = height\n",
    "        \n",
    "    @property\n",
    "    def resolution(self):\n",
    "        self._resolution = self._width * self._height\n",
    "        return self._resolution\n",
    "\n",
    "s = Screen()\n",
    "s.width = 75\n",
    "s.height = 20\n",
    "print s.resolution\n",
    "try:\n",
    "    s.width = 'abc'\n",
    "except ValueError:\n",
    "    traceback.print_exc()\n",
    "try:\n",
    "    s.resolution = 1500\n",
    "except AttributeError:\n",
    "    traceback.print_exc()"
   ]
  },
  {
   "cell_type": "heading",
   "metadata": {},
   "level": 1,
   "source": [
    "实现一个类，支持用以下方式输出小于1000的所有素数: for i in Prime1000(): print(i)"
   ]
  },
  {
   "cell_type": "code",
   "execution_count": null,
   "metadata": {},
   "outputs": [],
   "source": [
    "class Prime(object):\n",
    "    def __init__(self, value):\n",
    "        self.value = 0\n",
    "        \n",
    "    def __iter__(self):\n",
    "        return self\n",
    "    \n",
    "    def next(self):\n",
    "        self.value = self.value + 1\n",
    "        if self.value > 100: \n",
    "            raise StopIteration()\n",
    "        #= [self.value for i in range(2, self.value) if (self.value % i) != 0]\n",
    "        if not [j for j in range(2,self.value) if self.value%j ==0]:\n",
    "            return self.value\n",
    "        \n",
    "    def __getitem__(self, n):\n",
    "        if isinstance(n, int):\n",
    "            if not [j for j in range(2,n) if n%j ==0]:\n",
    "                return n\n",
    "            else:\n",
    "                print '%d in not prime number' % n\n",
    "        if isinstance(n, slice):\n",
    "            start = n.start\n",
    "            stop = n.stop\n",
    "            L = []\n",
    "            for x in range(stop):\n",
    "                if x >= start:\n",
    "                    if not [j for j in range(2,x) if x%j ==0]:\n",
    "                        L.append(x)\n",
    "            return L\n",
    "\n",
    "for value in Prime():\n",
    "    print value\n",
    "    \n"
   ]
  },
  {
   "cell_type": "code",
   "execution_count": null,
   "outputs": [],
   "source": [
    ""
   ]
  }
 ],
 "metadata": {
  "kernelspec": {
   "display_name": "Python 2",
   "language": "python",
   "name": "python2"
  },
  "language_info": {
   "codemirror_mode": {
    "name": "ipython",
    "version": 2.0
   },
   "file_extension": ".py",
   "mimetype": "text/x-python",
   "name": "python",
   "nbconvert_exporter": "python",
   "pygments_lexer": "ipython2",
   "version": "2.7.6"
  }
 },
 "nbformat": 4,
 "nbformat_minor": 0
}